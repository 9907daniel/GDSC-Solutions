{
 "cells": [
  {
   "cell_type": "code",
   "execution_count": 1,
   "id": "d22a38f8",
   "metadata": {},
   "outputs": [
    {
     "ename": "ModuleNotFoundError",
     "evalue": "No module named 'pandas'",
     "output_type": "error",
     "traceback": [
      "\u001b[0;31m---------------------------------------------------------------------------\u001b[0m",
      "\u001b[0;31mModuleNotFoundError\u001b[0m                       Traceback (most recent call last)",
      "Cell \u001b[0;32mIn[1], line 1\u001b[0m\n\u001b[0;32m----> 1\u001b[0m \u001b[38;5;28;01mimport\u001b[39;00m \u001b[38;5;21;01mpandas\u001b[39;00m \u001b[38;5;28;01mas\u001b[39;00m \u001b[38;5;21;01mpd\u001b[39;00m\n\u001b[1;32m      2\u001b[0m \u001b[38;5;28;01mimport\u001b[39;00m \u001b[38;5;21;01mnumpy\u001b[39;00m \u001b[38;5;28;01mas\u001b[39;00m \u001b[38;5;21;01mnp\u001b[39;00m\n\u001b[1;32m      3\u001b[0m \u001b[38;5;28;01mimport\u001b[39;00m \u001b[38;5;21;01mmatplotlib\u001b[39;00m\u001b[38;5;21;01m.\u001b[39;00m\u001b[38;5;21;01mpyplot\u001b[39;00m \u001b[38;5;28;01mas\u001b[39;00m \u001b[38;5;21;01mplt\u001b[39;00m\n",
      "\u001b[0;31mModuleNotFoundError\u001b[0m: No module named 'pandas'"
     ]
    }
   ],
   "source": [
    "import pandas as pd\n",
    "import numpy as np\n",
    "import matplotlib.pyplot as plt\n",
    "import seaborn as sb\n",
    "import requests\n",
    "from datetime import *\n",
    "import math\n",
    "import time\n",
    "\n",
    "from warnings import simplefilter\n",
    "simplefilter(action=\"ignore\", category=pd.errors.PerformanceWarning)"
   ]
  },
  {
   "cell_type": "code",
   "execution_count": 2,
   "id": "77200e78",
   "metadata": {},
   "outputs": [
    {
     "ename": "NameError",
     "evalue": "name 'datetime' is not defined",
     "output_type": "error",
     "traceback": [
      "\u001b[0;31m---------------------------------------------------------------------------\u001b[0m",
      "\u001b[0;31mNameError\u001b[0m                                 Traceback (most recent call last)",
      "Cell \u001b[0;32mIn[2], line 1\u001b[0m\n\u001b[0;32m----> 1\u001b[0m today \u001b[38;5;241m=\u001b[39m \u001b[43mdatetime\u001b[49m\u001b[38;5;241m.\u001b[39mtoday() \u001b[38;5;241m-\u001b[39m timedelta(days\u001b[38;5;241m=\u001b[39m\u001b[38;5;241m1\u001b[39m) \u001b[38;5;66;03m# since it takes some time to update actual currency data for today\u001b[39;00m\n\u001b[1;32m      3\u001b[0m \u001b[38;5;28;01mdef\u001b[39;00m \u001b[38;5;21mcurrency_val\u001b[39m(currency, date):\n\u001b[1;32m      4\u001b[0m     response \u001b[38;5;241m=\u001b[39m requests\u001b[38;5;241m.\u001b[39mget(\u001b[38;5;124m\"\u001b[39m\u001b[38;5;124mhttps://www.xe.com/currencytables/?from=\u001b[39m\u001b[38;5;132;01m{}\u001b[39;00m\u001b[38;5;124m&date=\u001b[39m\u001b[38;5;132;01m{}\u001b[39;00m\u001b[38;5;124m#table-section\u001b[39m\u001b[38;5;124m\"\u001b[39m\u001b[38;5;241m.\u001b[39mformat(currency, date\u001b[38;5;241m.\u001b[39mstrftime(\u001b[38;5;124m'\u001b[39m\u001b[38;5;124m%\u001b[39m\u001b[38;5;124mY-\u001b[39m\u001b[38;5;124m%\u001b[39m\u001b[38;5;124mm-\u001b[39m\u001b[38;5;132;01m%d\u001b[39;00m\u001b[38;5;124m'\u001b[39m)))\n",
      "\u001b[0;31mNameError\u001b[0m: name 'datetime' is not defined"
     ]
    }
   ],
   "source": [
    "today = datetime.today() - timedelta(days=1) # since it takes some time to update actual currency data for today\n",
    "\n",
    "def currency_val(currency, date):\n",
    "    response = requests.get(\"https://www.xe.com/currencytables/?from={}&date={}#table-section\".format(currency, date.strftime('%Y-%m-%d')))\n",
    "    return pd.read_html(response.text)[0]\n",
    "\n",
    "currency_list = currency_val(\"KRW\", today)[\"Currency\"][:166]\n",
    "currency_list"
   ]
  },
  {
   "cell_type": "markdown",
   "id": "5b42c8a2",
   "metadata": {},
   "source": [
    "## Functions"
   ]
  },
  {
   "cell_type": "markdown",
   "id": "ff4f9723",
   "metadata": {},
   "source": [
    "### Simple Moving Average (SMA) calculation"
   ]
  },
  {
   "cell_type": "code",
   "execution_count": 3,
   "id": "51a0edfd",
   "metadata": {},
   "outputs": [],
   "source": [
    "def moving_average(df, days):\n",
    "    return df.rolling(days).mean()"
   ]
  },
  {
   "cell_type": "markdown",
   "id": "2ba2ddc6",
   "metadata": {},
   "source": [
    "### Iterative web scraping for historic currency data"
   ]
  },
  {
   "cell_type": "code",
   "execution_count": 4,
   "id": "5edea0bf",
   "metadata": {},
   "outputs": [],
   "source": [
    "#currency: str(currency of interest)\n",
    "#day: int(number of days ago) \n",
    "#currency_list = list([\"currency 1\", \"currency 2\" ...])\n",
    "\n",
    "#Example: iter_currency(\"KRW\", 200, [\"USD\", \"EUR\", \"SGD\", \"JPY\"]) \n",
    "\n",
    "def iter_currency(currency, day, currency_list): \n",
    "    from concurrent.futures import ThreadPoolExecutor\n",
    "    \n",
    "    start_time = time.time()\n",
    "    \n",
    "    today = datetime.today() - timedelta(days=1)\n",
    "    currency_list = list(currency_list)\n",
    "    rate_df = pd.DataFrame()\n",
    "    \n",
    "    \n",
    "    def iter_url(url):\n",
    "        response = requests.get(url)\n",
    "        return pd.read_html(response.text)[0]\n",
    "    \n",
    "    \n",
    "    for i in range(0, len(currency_list)):\n",
    "        print(\"Processing %d of %d\" %(i+1, len(currency_list)))\n",
    "        rate_list = []\n",
    "        date_list = []\n",
    "        response_url = []\n",
    "        for j in range(day, 0-1, -1):\n",
    "            date = today - timedelta(days=j)\n",
    "            date_list.append(date.strftime('%Y-%m-%d'))\n",
    "            response_url.append(\"https://www.xe.com/currencytables/?from={}&date={}#table-section\".format(currency, date.strftime('%Y-%m-%d')))\n",
    "        \n",
    "        with ThreadPoolExecutor(max_workers=200) as pool:\n",
    "            response_list = list(pool.map(iter_url, response_url))\n",
    "            \n",
    "        for k in range(0, len(response_list)):\n",
    "            df = response_list[k]\n",
    "            rate_list.append(df.loc[df[\"Currency\"] == list(currency_list)[i]][\"%s per unit\" %currency].values)\n",
    "        rate_df[currency_list[i]] = pd.DataFrame(rate_list)\n",
    "    rate_df.index = date_list\n",
    "    \n",
    "    \n",
    "    global rate\n",
    "    rate = rate_df\n",
    "    \n",
    "    print(\"----- %.2f s taken -----\" % (time.time() - start_time))\n",
    "    \n",
    "    return rate # please call 'rate' separately to save the scraped data"
   ]
  },
  {
   "cell_type": "markdown",
   "id": "d36bf42f",
   "metadata": {},
   "source": [
    "## SMA Example (KRW-USD)"
   ]
  },
  {
   "cell_type": "markdown",
   "id": "b02ce895",
   "metadata": {},
   "source": [
    "### Simple Moving Average over past 200 days"
   ]
  },
  {
   "cell_type": "code",
   "execution_count": 5,
   "id": "09da8cc0",
   "metadata": {},
   "outputs": [
    {
     "ename": "NameError",
     "evalue": "name 'time' is not defined",
     "output_type": "error",
     "traceback": [
      "\u001b[0;31m---------------------------------------------------------------------------\u001b[0m",
      "\u001b[0;31mNameError\u001b[0m                                 Traceback (most recent call last)",
      "Cell \u001b[0;32mIn[5], line 4\u001b[0m\n\u001b[1;32m      1\u001b[0m \u001b[38;5;66;03m# WARNING: running this cell may cause performance issue while running due to multithreading\u001b[39;00m\n\u001b[1;32m      2\u001b[0m \u001b[38;5;66;03m# approximately takes 25s  \u001b[39;00m\n\u001b[0;32m----> 4\u001b[0m \u001b[43miter_currency\u001b[49m\u001b[43m(\u001b[49m\u001b[38;5;124;43m\"\u001b[39;49m\u001b[38;5;124;43mKRW\u001b[39;49m\u001b[38;5;124;43m\"\u001b[39;49m\u001b[43m,\u001b[49m\u001b[43m \u001b[49m\u001b[38;5;241;43m200\u001b[39;49m\u001b[38;5;241;43m+\u001b[39;49m\u001b[38;5;241;43m200\u001b[39;49m\u001b[43m,\u001b[49m\u001b[43m \u001b[49m\u001b[43m[\u001b[49m\u001b[38;5;124;43m\"\u001b[39;49m\u001b[38;5;124;43mUSD\u001b[39;49m\u001b[38;5;124;43m\"\u001b[39;49m\u001b[43m]\u001b[49m\u001b[43m)\u001b[49m\n",
      "Cell \u001b[0;32mIn[4], line 10\u001b[0m, in \u001b[0;36miter_currency\u001b[0;34m(currency, day, currency_list)\u001b[0m\n\u001b[1;32m      7\u001b[0m \u001b[38;5;28;01mdef\u001b[39;00m \u001b[38;5;21miter_currency\u001b[39m(currency, day, currency_list): \n\u001b[1;32m      8\u001b[0m     \u001b[38;5;28;01mfrom\u001b[39;00m \u001b[38;5;21;01mconcurrent\u001b[39;00m\u001b[38;5;21;01m.\u001b[39;00m\u001b[38;5;21;01mfutures\u001b[39;00m \u001b[38;5;28;01mimport\u001b[39;00m ThreadPoolExecutor\n\u001b[0;32m---> 10\u001b[0m     start_time \u001b[38;5;241m=\u001b[39m \u001b[43mtime\u001b[49m\u001b[38;5;241m.\u001b[39mtime()\n\u001b[1;32m     12\u001b[0m     today \u001b[38;5;241m=\u001b[39m datetime\u001b[38;5;241m.\u001b[39mtoday() \u001b[38;5;241m-\u001b[39m timedelta(days\u001b[38;5;241m=\u001b[39m\u001b[38;5;241m1\u001b[39m)\n\u001b[1;32m     13\u001b[0m     currency_list \u001b[38;5;241m=\u001b[39m \u001b[38;5;28mlist\u001b[39m(currency_list)\n",
      "\u001b[0;31mNameError\u001b[0m: name 'time' is not defined"
     ]
    }
   ],
   "source": [
    "# WARNING: running this cell may cause performance issue while running due to multithreading\n",
    "# approximately takes 25s  \n",
    "\n",
    "iter_currency(\"KRW\", 200+200, [\"USD\"])"
   ]
  },
  {
   "cell_type": "code",
   "execution_count": 6,
   "id": "58af930d",
   "metadata": {
    "scrolled": false
   },
   "outputs": [
    {
     "ename": "NameError",
     "evalue": "name 'plt' is not defined",
     "output_type": "error",
     "traceback": [
      "\u001b[0;31m---------------------------------------------------------------------------\u001b[0m",
      "\u001b[0;31mNameError\u001b[0m                                 Traceback (most recent call last)",
      "Cell \u001b[0;32mIn[6], line 1\u001b[0m\n\u001b[0;32m----> 1\u001b[0m \u001b[43mplt\u001b[49m\u001b[38;5;241m.\u001b[39mfigure(figsize \u001b[38;5;241m=\u001b[39m(\u001b[38;5;241m10\u001b[39m, \u001b[38;5;241m6\u001b[39m))\n\u001b[1;32m      2\u001b[0m plt\u001b[38;5;241m.\u001b[39mplot(rate\u001b[38;5;241m.\u001b[39mindex[\u001b[38;5;241m200\u001b[39m:], rate[\u001b[38;5;124m\"\u001b[39m\u001b[38;5;124mUSD\u001b[39m\u001b[38;5;124m\"\u001b[39m][\u001b[38;5;241m200\u001b[39m:], label \u001b[38;5;241m=\u001b[39m \u001b[38;5;124m\"\u001b[39m\u001b[38;5;124mKRW per USD\u001b[39m\u001b[38;5;124m\"\u001b[39m, linewidth \u001b[38;5;241m=\u001b[39m \u001b[38;5;241m1\u001b[39m, color \u001b[38;5;241m=\u001b[39m \u001b[38;5;124m'\u001b[39m\u001b[38;5;124mblack\u001b[39m\u001b[38;5;124m'\u001b[39m)\n\u001b[1;32m      3\u001b[0m plt\u001b[38;5;241m.\u001b[39mplot(rate\u001b[38;5;241m.\u001b[39mindex[\u001b[38;5;241m200\u001b[39m:], moving_average(rate[\u001b[38;5;124m\"\u001b[39m\u001b[38;5;124mUSD\u001b[39m\u001b[38;5;124m\"\u001b[39m], \u001b[38;5;241m5\u001b[39m)[\u001b[38;5;241m200\u001b[39m:], \u001b[38;5;124m'\u001b[39m\u001b[38;5;124m--\u001b[39m\u001b[38;5;124m'\u001b[39m, label \u001b[38;5;241m=\u001b[39m \u001b[38;5;124m\"\u001b[39m\u001b[38;5;124mSMA(5)\u001b[39m\u001b[38;5;124m\"\u001b[39m, linewidth \u001b[38;5;241m=\u001b[39m \u001b[38;5;241m1\u001b[39m)\n",
      "\u001b[0;31mNameError\u001b[0m: name 'plt' is not defined"
     ]
    }
   ],
   "source": [
    "plt.figure(figsize =(10, 6))\n",
    "plt.plot(rate.index[200:], rate[\"USD\"][200:], label = \"KRW per USD\", linewidth = 1, color = 'black')\n",
    "plt.plot(rate.index[200:], moving_average(rate[\"USD\"], 5)[200:], '--', label = \"SMA(5)\", linewidth = 1)\n",
    "plt.plot(rate.index[200:], moving_average(rate[\"USD\"], 10)[200:], '--', label =\"SMA(10)\", linewidth = 1)\n",
    "plt.plot(rate.index[200:], moving_average(rate[\"USD\"], 20)[200:], '--', label =\"SMA(20)\", linewidth = 1)\n",
    "plt.plot(rate.index[200:], moving_average(rate[\"USD\"], 60)[200:], '--', label =\"SMA(60)\", linewidth = 1)\n",
    "plt.plot(rate.index[200:], moving_average(rate[\"USD\"], 120)[200:], '--', label =\"MA(120)\", linewidth = 1)\n",
    "plt.plot(rate.index[200:], moving_average(rate[\"USD\"], 200)[200:], '--', label =\"MA(200)\", linewidth = 1)\n",
    "\n",
    "plt.xticks(np.arange(len(rate.index[200:])-1, 0, -30), rotation = 30, fontsize = 8)\n",
    "plt.xlabel(\"Date\")\n",
    "plt.ylabel(\"Korean Won (KRW)\")\n",
    "plt.title(\"Exchange rate of Korean Won per US Dollar (%s ~ %s)\" % (rate.index[200], rate.index[-1]))\n",
    "plt.legend(bbox_to_anchor=(1.2, 1.017))\n",
    "plt.margins(x=0, y=0.05)"
   ]
  },
  {
   "cell_type": "markdown",
   "id": "98c1d31e",
   "metadata": {},
   "source": [
    "### Simple Moving Average over past 3 years"
   ]
  },
  {
   "cell_type": "code",
   "execution_count": 7,
   "id": "cbd1693d",
   "metadata": {},
   "outputs": [
    {
     "ename": "NameError",
     "evalue": "name 'time' is not defined",
     "output_type": "error",
     "traceback": [
      "\u001b[0;31m---------------------------------------------------------------------------\u001b[0m",
      "\u001b[0;31mNameError\u001b[0m                                 Traceback (most recent call last)",
      "Cell \u001b[0;32mIn[7], line 4\u001b[0m\n\u001b[1;32m      1\u001b[0m \u001b[38;5;66;03m# WARNING: running this cell may cause performance issue while running due to multithreading\u001b[39;00m\n\u001b[1;32m      2\u001b[0m \u001b[38;5;66;03m# approximately takes 80s \u001b[39;00m\n\u001b[0;32m----> 4\u001b[0m \u001b[43miter_currency\u001b[49m\u001b[43m(\u001b[49m\u001b[38;5;124;43m\"\u001b[39;49m\u001b[38;5;124;43mKRW\u001b[39;49m\u001b[38;5;124;43m\"\u001b[39;49m\u001b[43m,\u001b[49m\u001b[43m \u001b[49m\u001b[38;5;241;43m365\u001b[39;49m\u001b[38;5;241;43m*\u001b[39;49m\u001b[38;5;241;43m3\u001b[39;49m\u001b[38;5;241;43m+\u001b[39;49m\u001b[38;5;241;43m200\u001b[39;49m\u001b[43m,\u001b[49m\u001b[43m \u001b[49m\u001b[43m[\u001b[49m\u001b[38;5;124;43m\"\u001b[39;49m\u001b[38;5;124;43mUSD\u001b[39;49m\u001b[38;5;124;43m\"\u001b[39;49m\u001b[43m]\u001b[49m\u001b[43m)\u001b[49m\n",
      "Cell \u001b[0;32mIn[4], line 10\u001b[0m, in \u001b[0;36miter_currency\u001b[0;34m(currency, day, currency_list)\u001b[0m\n\u001b[1;32m      7\u001b[0m \u001b[38;5;28;01mdef\u001b[39;00m \u001b[38;5;21miter_currency\u001b[39m(currency, day, currency_list): \n\u001b[1;32m      8\u001b[0m     \u001b[38;5;28;01mfrom\u001b[39;00m \u001b[38;5;21;01mconcurrent\u001b[39;00m\u001b[38;5;21;01m.\u001b[39;00m\u001b[38;5;21;01mfutures\u001b[39;00m \u001b[38;5;28;01mimport\u001b[39;00m ThreadPoolExecutor\n\u001b[0;32m---> 10\u001b[0m     start_time \u001b[38;5;241m=\u001b[39m \u001b[43mtime\u001b[49m\u001b[38;5;241m.\u001b[39mtime()\n\u001b[1;32m     12\u001b[0m     today \u001b[38;5;241m=\u001b[39m datetime\u001b[38;5;241m.\u001b[39mtoday() \u001b[38;5;241m-\u001b[39m timedelta(days\u001b[38;5;241m=\u001b[39m\u001b[38;5;241m1\u001b[39m)\n\u001b[1;32m     13\u001b[0m     currency_list \u001b[38;5;241m=\u001b[39m \u001b[38;5;28mlist\u001b[39m(currency_list)\n",
      "\u001b[0;31mNameError\u001b[0m: name 'time' is not defined"
     ]
    }
   ],
   "source": [
    "# WARNING: running this cell may cause performance issue while running due to multithreading\n",
    "# approximately takes 80s \n",
    "\n",
    "iter_currency(\"KRW\", 365*3+200, [\"USD\"])"
   ]
  },
  {
   "cell_type": "code",
   "execution_count": 8,
   "id": "7984c21e",
   "metadata": {},
   "outputs": [
    {
     "ename": "NameError",
     "evalue": "name 'plt' is not defined",
     "output_type": "error",
     "traceback": [
      "\u001b[0;31m---------------------------------------------------------------------------\u001b[0m",
      "\u001b[0;31mNameError\u001b[0m                                 Traceback (most recent call last)",
      "Cell \u001b[0;32mIn[8], line 1\u001b[0m\n\u001b[0;32m----> 1\u001b[0m \u001b[43mplt\u001b[49m\u001b[38;5;241m.\u001b[39mfigure(figsize \u001b[38;5;241m=\u001b[39m(\u001b[38;5;241m10\u001b[39m, \u001b[38;5;241m6\u001b[39m))\n\u001b[1;32m      2\u001b[0m plt\u001b[38;5;241m.\u001b[39mplot(rate\u001b[38;5;241m.\u001b[39mindex[\u001b[38;5;241m200\u001b[39m:], rate[\u001b[38;5;124m\"\u001b[39m\u001b[38;5;124mUSD\u001b[39m\u001b[38;5;124m\"\u001b[39m][\u001b[38;5;241m200\u001b[39m:], label \u001b[38;5;241m=\u001b[39m \u001b[38;5;124m\"\u001b[39m\u001b[38;5;124mKRW per USD\u001b[39m\u001b[38;5;124m\"\u001b[39m, linewidth \u001b[38;5;241m=\u001b[39m \u001b[38;5;241m1\u001b[39m, color \u001b[38;5;241m=\u001b[39m \u001b[38;5;124m'\u001b[39m\u001b[38;5;124mblack\u001b[39m\u001b[38;5;124m'\u001b[39m)\n\u001b[1;32m      3\u001b[0m \u001b[38;5;66;03m#plt.plot(rate.index[200:], moving_average(rate[\"USD\"], 5)[200:].dropna(),label =\"SMA(5)\", linewidth = 1)\u001b[39;00m\n\u001b[1;32m      4\u001b[0m \u001b[38;5;66;03m#plt.plot(rate.index[200:], moving_average(rate[\"USD\"], 10)[200:].dropna(),label =\"SMA(10)\", linewidth = 1)\u001b[39;00m\n",
      "\u001b[0;31mNameError\u001b[0m: name 'plt' is not defined"
     ]
    }
   ],
   "source": [
    "plt.figure(figsize =(10, 6))\n",
    "plt.plot(rate.index[200:], rate[\"USD\"][200:], label = \"KRW per USD\", linewidth = 1, color = 'black')\n",
    "#plt.plot(rate.index[200:], moving_average(rate[\"USD\"], 5)[200:].dropna(),label =\"SMA(5)\", linewidth = 1)\n",
    "#plt.plot(rate.index[200:], moving_average(rate[\"USD\"], 10)[200:].dropna(),label =\"SMA(10)\", linewidth = 1)\n",
    "plt.plot(rate.index[200:], moving_average(rate[\"USD\"], 20)[200:].dropna(), label =\"SMA(20)\", linewidth = 1)\n",
    "plt.plot(rate.index[200:], moving_average(rate[\"USD\"], 60)[200:].dropna(), label =\"SMA(60)\", linewidth = 1)\n",
    "plt.plot(rate.index[200:], moving_average(rate[\"USD\"], 120)[200:].dropna(), '--', label =\"SMA(120)\", linewidth = 1)\n",
    "plt.plot(rate.index[200:], moving_average(rate[\"USD\"], 200)[200:].dropna(), '--', label =\"SMA(200)\", linewidth = 1)\n",
    "\n",
    "plt.xticks(np.arange(len(rate.index[200:])-1, 0, -90), rotation = 30, fontsize = 8)\n",
    "plt.xlabel(\"Date\")\n",
    "plt.ylabel(\"Korean Won (KRW)\")\n",
    "plt.title(\"Exchange rate of Korean Won per US Dollar (%s ~ %s)\" % (rate.index[200], rate.index[-1]))\n",
    "plt.legend(bbox_to_anchor=(1.01, 1.017))\n",
    "plt.margins(x=0, y=0.05)"
   ]
  },
  {
   "cell_type": "markdown",
   "id": "652d68c7",
   "metadata": {},
   "source": [
    "## Exploratory Analysis"
   ]
  },
  {
   "cell_type": "code",
   "execution_count": 9,
   "id": "3b0fc92c",
   "metadata": {},
   "outputs": [
    {
     "ename": "NameError",
     "evalue": "name 'currency_list' is not defined",
     "output_type": "error",
     "traceback": [
      "\u001b[0;31m---------------------------------------------------------------------------\u001b[0m",
      "\u001b[0;31mNameError\u001b[0m                                 Traceback (most recent call last)",
      "Cell \u001b[0;32mIn[9], line 5\u001b[0m\n\u001b[1;32m      1\u001b[0m \u001b[38;5;66;03m# WARNING: running this cell may cause performance issue while running due to multithreading\u001b[39;00m\n\u001b[1;32m      2\u001b[0m \u001b[38;5;66;03m# Run this cell to scrape historic currency data for KRW over past 200 days\u001b[39;00m\n\u001b[1;32m      3\u001b[0m \u001b[38;5;66;03m# approximately takes 30 mins  \u001b[39;00m\n\u001b[0;32m----> 5\u001b[0m iter_currency(\u001b[38;5;124m\"\u001b[39m\u001b[38;5;124mKRW\u001b[39m\u001b[38;5;124m\"\u001b[39m, \u001b[38;5;241m200\u001b[39m, \u001b[43mcurrency_list\u001b[49m)\n\u001b[1;32m      6\u001b[0m KRW_data \u001b[38;5;241m=\u001b[39m rate\n",
      "\u001b[0;31mNameError\u001b[0m: name 'currency_list' is not defined"
     ]
    }
   ],
   "source": [
    "# WARNING: running this cell may cause performance issue while running due to multithreading\n",
    "# Run this cell to scrape historic currency data for KRW over past 200 days\n",
    "# approximately takes 30 mins  \n",
    "\n",
    "iter_currency(\"KRW\", 200, currency_list)\n",
    "KRW_data = rate"
   ]
  },
  {
   "cell_type": "markdown",
   "id": "e52f943c",
   "metadata": {},
   "source": [
    "### Ranking by weighted moving average differential (KRW)"
   ]
  },
  {
   "cell_type": "code",
   "execution_count": 10,
   "id": "f1505bb9",
   "metadata": {
    "scrolled": false
   },
   "outputs": [
    {
     "ename": "NameError",
     "evalue": "name 'pd' is not defined",
     "output_type": "error",
     "traceback": [
      "\u001b[0;31m---------------------------------------------------------------------------\u001b[0m",
      "\u001b[0;31mNameError\u001b[0m                                 Traceback (most recent call last)",
      "Cell \u001b[0;32mIn[10], line 1\u001b[0m\n\u001b[0;32m----> 1\u001b[0m KRW_data \u001b[38;5;241m=\u001b[39m \u001b[43mpd\u001b[49m\u001b[38;5;241m.\u001b[39mread_csv(\u001b[38;5;124m\"\u001b[39m\u001b[38;5;124mKRW 2022.08.02-2023.02.18.csv\u001b[39m\u001b[38;5;124m\"\u001b[39m)\n\u001b[1;32m      2\u001b[0m KRW_data\u001b[38;5;241m.\u001b[39mrename(columns \u001b[38;5;241m=\u001b[39m {KRW_data\u001b[38;5;241m.\u001b[39mcolumns[\u001b[38;5;241m0\u001b[39m] :  \u001b[38;5;124m\"\u001b[39m\u001b[38;5;124mDate\u001b[39m\u001b[38;5;124m\"\u001b[39m}, inplace \u001b[38;5;241m=\u001b[39m \u001b[38;5;28;01mTrue\u001b[39;00m)\n\u001b[1;32m      4\u001b[0m KRW_data\u001b[38;5;241m.\u001b[39mhead()\n",
      "\u001b[0;31mNameError\u001b[0m: name 'pd' is not defined"
     ]
    }
   ],
   "source": [
    "KRW_data = pd.read_csv(\"KRW 2022.08.02-2023.02.18.csv\")\n",
    "KRW_data.rename(columns = {KRW_data.columns[0] :  \"Date\"}, inplace = True)\n",
    "\n",
    "KRW_data.head()"
   ]
  },
  {
   "cell_type": "code",
   "execution_count": 11,
   "id": "857096e2",
   "metadata": {
    "scrolled": false
   },
   "outputs": [
    {
     "ename": "NameError",
     "evalue": "name 'KRW_data' is not defined",
     "output_type": "error",
     "traceback": [
      "\u001b[0;31m---------------------------------------------------------------------------\u001b[0m",
      "\u001b[0;31mNameError\u001b[0m                                 Traceback (most recent call last)",
      "Cell \u001b[0;32mIn[11], line 1\u001b[0m\n\u001b[0;32m----> 1\u001b[0m data \u001b[38;5;241m=\u001b[39m \u001b[43mKRW_data\u001b[49m\n\u001b[1;32m      2\u001b[0m weighted_ma \u001b[38;5;241m=\u001b[39m pd\u001b[38;5;241m.\u001b[39mDataFrame([])\n\u001b[1;32m      5\u001b[0m ma_list \u001b[38;5;241m=\u001b[39m [\u001b[38;5;241m5\u001b[39m, \u001b[38;5;241m20\u001b[39m, \u001b[38;5;241m60\u001b[39m, \u001b[38;5;241m120\u001b[39m, \u001b[38;5;241m200\u001b[39m] \n",
      "\u001b[0;31mNameError\u001b[0m: name 'KRW_data' is not defined"
     ]
    }
   ],
   "source": [
    "data = KRW_data\n",
    "weighted_ma = pd.DataFrame([])\n",
    "\n",
    "\n",
    "ma_list = [5, 20, 60, 120, 200] \n",
    "weight_list = [0.2, 0.1333, 0.3333, 0.2, 0.1334]\n",
    "\n",
    "\n",
    "for i in range(0, len(currency_list)):\n",
    "    currency_ma = []\n",
    "    for j in range(0,len(ma_list)):\n",
    "        currency_ma.append(moving_average(data.iloc[0:,i+1], ma_list[j]).tail(1).values)\n",
    "    weighted_ma[data.iloc[0:,i+1].name] = pd.DataFrame(currency_ma)\n",
    "    \n",
    "    \n",
    "weighted_ma = weighted_ma.apply(lambda x: (np.asarray(x) * np.asarray(weight_list)).sum())\n",
    "\n",
    "forex_score = ((weighted_ma - data.drop(\"Date\", axis = 1).iloc[-1]) / weighted_ma * 100).sort_values(ascending = False)\n",
    "forex_score = pd.DataFrame(forex_score).reset_index()\n",
    "forex_score.columns = [\"Currency abbreviation\", \"Forex score\"]\n",
    "\n",
    "forex_score\n",
    "\n",
    "# positive values mean high value, negative values mean low value compared to weighted moving average"
   ]
  },
  {
   "cell_type": "code",
   "execution_count": 12,
   "id": "50de0bc4",
   "metadata": {},
   "outputs": [
    {
     "ename": "NameError",
     "evalue": "name 'pd' is not defined",
     "output_type": "error",
     "traceback": [
      "\u001b[0;31m---------------------------------------------------------------------------\u001b[0m",
      "\u001b[0;31mNameError\u001b[0m                                 Traceback (most recent call last)",
      "Cell \u001b[0;32mIn[12], line 1\u001b[0m\n\u001b[0;32m----> 1\u001b[0m currency_code \u001b[38;5;241m=\u001b[39m \u001b[43mpd\u001b[49m\u001b[38;5;241m.\u001b[39mread_csv(\u001b[38;5;124m\"\u001b[39m\u001b[38;5;124mcurrency code.csv\u001b[39m\u001b[38;5;124m\"\u001b[39m)\n\u001b[1;32m      3\u001b[0m currency_code \u001b[38;5;241m=\u001b[39m currency_code\u001b[38;5;241m.\u001b[39mmerge(forex_score, how \u001b[38;5;241m=\u001b[39m \u001b[38;5;124m\"\u001b[39m\u001b[38;5;124minner\u001b[39m\u001b[38;5;124m\"\u001b[39m)\n\u001b[1;32m      5\u001b[0m currency_code[\u001b[38;5;124m\"\u001b[39m\u001b[38;5;124mPPP\u001b[39m\u001b[38;5;124m\"\u001b[39m] \u001b[38;5;241m=\u001b[39m  currency_code[\u001b[38;5;124m\"\u001b[39m\u001b[38;5;124mGDP per capita\u001b[39m\u001b[38;5;124m\"\u001b[39m] \u001b[38;5;241m/\u001b[39m currency_code[\u001b[38;5;124m\"\u001b[39m\u001b[38;5;124mGDP per capita PPP\u001b[39m\u001b[38;5;124m\"\u001b[39m]\n",
      "\u001b[0;31mNameError\u001b[0m: name 'pd' is not defined"
     ]
    }
   ],
   "source": [
    "currency_code = pd.read_csv(\"currency code.csv\")\n",
    "\n",
    "currency_code = currency_code.merge(forex_score, how = \"inner\")\n",
    "\n",
    "currency_code[\"PPP\"] =  currency_code[\"GDP per capita\"] / currency_code[\"GDP per capita PPP\"]\n",
    "currency_code[\"Final score\"] = (1/currency_code[\"PPP\"])*0.5+ (np.log(currency_code[\"Forex score\"] + abs(min(currency_code[\"Forex score\"])) + 1))*0.5\n",
    "\n",
    "currency_code.sort_values(by = [\"Final score\"], ascending = False)"
   ]
  },
  {
   "cell_type": "code",
   "execution_count": null,
   "id": "b149dd43",
   "metadata": {},
   "outputs": [],
   "source": []
  },
  {
   "cell_type": "code",
   "execution_count": null,
   "id": "e339bf0a",
   "metadata": {},
   "outputs": [],
   "source": []
  },
  {
   "cell_type": "code",
   "execution_count": null,
   "id": "424f496b",
   "metadata": {},
   "outputs": [],
   "source": []
  },
  {
   "cell_type": "code",
   "execution_count": null,
   "id": "8a26e481",
   "metadata": {},
   "outputs": [],
   "source": []
  },
  {
   "cell_type": "code",
   "execution_count": null,
   "id": "86f24917",
   "metadata": {},
   "outputs": [],
   "source": []
  }
 ],
 "metadata": {
  "kernelspec": {
   "display_name": "Python 3 (ipykernel)",
   "language": "python",
   "name": "python3"
  },
  "language_info": {
   "codemirror_mode": {
    "name": "ipython",
    "version": 3
   },
   "file_extension": ".py",
   "mimetype": "text/x-python",
   "name": "python",
   "nbconvert_exporter": "python",
   "pygments_lexer": "ipython3",
   "version": "3.10.9"
  }
 },
 "nbformat": 4,
 "nbformat_minor": 5
}
